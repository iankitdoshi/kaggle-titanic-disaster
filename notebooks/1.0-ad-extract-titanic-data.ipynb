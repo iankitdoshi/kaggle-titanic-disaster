{
 "cells": [
  {
   "cell_type": "code",
   "execution_count": 1,
   "metadata": {},
   "outputs": [
    {
     "name": "stdout",
     "output_type": "stream",
     "text": [
      "Collecting python-dotenv\n",
      "  Downloading https://files.pythonhosted.org/packages/7f/ee/e0cd2d8ba548e4c3e8c9e70d76e423b3e8b8e4eec351f51292d828c735d2/python_dotenv-0.12.0-py2.py3-none-any.whl\n",
      "Installing collected packages: python-dotenv\n",
      "Successfully installed python-dotenv-0.12.0\n"
     ]
    },
    {
     "name": "stderr",
     "output_type": "stream",
     "text": [
      "You are using pip version 19.0.3, however version 20.0.2 is available.\n",
      "You should consider upgrading via the 'python -m pip install --upgrade pip' command.\n"
     ]
    }
   ],
   "source": [
    "!pip install python-dotenv"
   ]
  },
  {
   "cell_type": "code",
   "execution_count": 2,
   "metadata": {},
   "outputs": [],
   "source": [
    "from dotenv import load_dotenv, find_dotenv"
   ]
  },
  {
   "cell_type": "code",
   "execution_count": 7,
   "metadata": {},
   "outputs": [
    {
     "data": {
      "text/plain": [
       "True"
      ]
     },
     "execution_count": 7,
     "metadata": {},
     "output_type": "execute_result"
    }
   ],
   "source": [
    "#Find .env automatically by walking up directories untill it is found\n",
    "dotenv_path = find_dotenv()\n",
    "#Load up entries as enviornment variable\n",
    "load_dotenv(dotenv_path)"
   ]
  },
  {
   "cell_type": "code",
   "execution_count": 24,
   "metadata": {},
   "outputs": [
    {
     "name": "stdout",
     "output_type": "stream",
     "text": [
      "doshiankit\n"
     ]
    }
   ],
   "source": [
    "import os\n",
    "KAGGLE_USERNAME = os.environ.get(\"KAGGLE_USERNAME\")\n",
    "print(KAGGLE_USERNAME)\n",
    "KAGGLE_PASSWORD = os.environ.get(\"KAGGLE_PASSWORD\")"
   ]
  },
  {
   "cell_type": "code",
   "execution_count": 17,
   "metadata": {},
   "outputs": [],
   "source": [
    "import requests\n",
    "from requests import session\n",
    "import os\n",
    "from dotenv import load_dotenv, find_dotenv"
   ]
  },
  {
   "cell_type": "code",
   "execution_count": 28,
   "metadata": {},
   "outputs": [],
   "source": [
    "payload = {\n",
    "    'action' : 'login',\n",
    "    'username' : os.environ.get(\"KAGGLE_USERNAME\"),\n",
    "    'password' : os.environ.get(\"KAGGLE_PASSWORD\")\n",
    "}\n",
    "       \n",
    "url = 'https://www.kaggle.com/c/titanic/download/train.csv'\n",
    "\n",
    "with session() as c:\n",
    "    c.post('https://www.kaggle.com/account/login', data=payload)\n",
    "    response = c.get(url)\n",
    "    #print(response.text)"
   ]
  },
  {
   "cell_type": "code",
   "execution_count": 41,
   "metadata": {},
   "outputs": [],
   "source": [
    "from requests import session\n",
    "payload = {\n",
    "    'action' : 'login',\n",
    "    'username' : os.environ.get(\"KAGGLE_USERNAME\"),\n",
    "    'password' : os.environ.get(\"KAGGLE_PASSWORD\")\n",
    "}\n",
    "\n",
    "def extract_data(url, file_path):\n",
    "    '''\n",
    "    extract data from kaggle\n",
    "    '''\n",
    "    \n",
    "    with session() as c:\n",
    "        c.post('https://www.kaggle.com/account/login', data=payload)\n",
    "        with open(file_path, 'wb') as handle:\n",
    "            response = c.get(url, stream=True)\n",
    "            for block in response.iter_content(1024):\n",
    "                handle.write(block)\n"
   ]
  },
  {
   "cell_type": "code",
   "execution_count": 42,
   "metadata": {},
   "outputs": [],
   "source": [
    "train_url = 'https://www.kaggle.com/c/titanic/download/train.csv'\n",
    "test_url = 'https://www.kaggle.com/c/titanic/download/test.csv'\n",
    "\n",
    "#file paths\n",
    "raw_data_path = os.path.join(os.path.pardir,'data','raw')\n",
    "train_data_path = os.path.join(raw_data_path,'train.csv')\n",
    "test_data_path = os.path.join(raw_data_path,'test.csv')\n",
    "\n",
    "#extract data\n",
    "extract_data(train_url,train_data_path)\n",
    "extract_data(test_url,test_data_path)"
   ]
  },
  {
   "cell_type": "code",
   "execution_count": 45,
   "metadata": {},
   "outputs": [
    {
     "name": "stdout",
     "output_type": "stream",
     "text": [
      "total 24\n",
      "-rw-r--r-- 1 andoshi 1049089 9168 Apr 10 21:23 test.csv\n",
      "-rw-r--r-- 1 andoshi 1049089 9168 Apr 10 21:23 train.csv\n"
     ]
    }
   ],
   "source": [
    "!ls -l ../data/raw"
   ]
  },
  {
   "cell_type": "code",
   "execution_count": null,
   "metadata": {},
   "outputs": [],
   "source": []
  }
 ],
 "metadata": {
  "kernelspec": {
   "display_name": "Python 3",
   "language": "python",
   "name": "python3"
  },
  "language_info": {
   "codemirror_mode": {
    "name": "ipython",
    "version": 3
   },
   "file_extension": ".py",
   "mimetype": "text/x-python",
   "name": "python",
   "nbconvert_exporter": "python",
   "pygments_lexer": "ipython3",
   "version": "3.7.1"
  }
 },
 "nbformat": 4,
 "nbformat_minor": 2
}
